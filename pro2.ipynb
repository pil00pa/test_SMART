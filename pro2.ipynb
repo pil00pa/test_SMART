{
 "cells": [
  {
   "cell_type": "markdown",
   "metadata": {},
   "source": [
    "### Тестове завдання\n",
    "### Задача 2\n",
    "#### Виконав Михайлов Валерій"
   ]
  },
  {
   "cell_type": "markdown",
   "metadata": {},
   "source": [
    "## Спочатку завантажемо вже знайомі дані."
   ]
  },
  {
   "cell_type": "code",
   "execution_count": 146,
   "metadata": {},
   "outputs": [],
   "source": [
    "import pandas as pd\n",
    "\n",
    "\n",
    "# Uploading CSV files\n",
    "directory = 'S_Data'\n",
    "\n",
    "sellers = pd.read_csv(f'{directory}/sellers.csv')\n",
    "products = pd.read_csv(f'{directory}/products.csv')\n",
    "product_category_name_translation = pd.read_csv(f'{directory}/product_category_name_translation.csv')\n",
    "orders = pd.read_csv(f'{directory}/orders.csv')\n",
    "order_reviews = pd.read_csv(f'{directory}/order_reviews.csv')\n",
    "order_payments = pd.read_csv(f'{directory}/order_payments.csv')\n",
    "order_items = pd.read_csv(f'{directory}/order_items.csv')\n",
    "geolocation = pd.read_csv(f'{directory}/geolocation.csv')\n",
    "customers = pd.read_csv(f'{directory}/customers.csv')"
   ]
  },
  {
   "cell_type": "markdown",
   "metadata": {},
   "source": [
    "# Виконаємо класифікацію текстів коментарім за емоційним забарвленням на 3 категорії."
   ]
  },
  {
   "cell_type": "markdown",
   "metadata": {},
   "source": [
    "Використаємо натреновану модель для аналізу сентименту комментаря."
   ]
  },
  {
   "cell_type": "code",
   "execution_count": 147,
   "metadata": {},
   "outputs": [
    {
     "data": {
      "text/html": [
       "<div>\n",
       "<style scoped>\n",
       "    .dataframe tbody tr th:only-of-type {\n",
       "        vertical-align: middle;\n",
       "    }\n",
       "\n",
       "    .dataframe tbody tr th {\n",
       "        vertical-align: top;\n",
       "    }\n",
       "\n",
       "    .dataframe thead th {\n",
       "        text-align: right;\n",
       "    }\n",
       "</style>\n",
       "<table border=\"1\" class=\"dataframe\">\n",
       "  <thead>\n",
       "    <tr style=\"text-align: right;\">\n",
       "      <th></th>\n",
       "      <th>review_id</th>\n",
       "      <th>order_id</th>\n",
       "      <th>review_score</th>\n",
       "      <th>review_comment_title</th>\n",
       "      <th>review_comment_message</th>\n",
       "      <th>review_creation_date</th>\n",
       "      <th>review_answer_timestamp</th>\n",
       "    </tr>\n",
       "  </thead>\n",
       "  <tbody>\n",
       "    <tr>\n",
       "      <th>0</th>\n",
       "      <td>7bc2406110b926393aa56f80a40eba40</td>\n",
       "      <td>73fc7af87114b39712e6da79b0a377eb</td>\n",
       "      <td>4</td>\n",
       "      <td>NaN</td>\n",
       "      <td>NaN</td>\n",
       "      <td>2018-01-18 00:00:00</td>\n",
       "      <td>2018-01-18 21:46:59</td>\n",
       "    </tr>\n",
       "    <tr>\n",
       "      <th>1</th>\n",
       "      <td>80e641a11e56f04c1ad469d5645fdfde</td>\n",
       "      <td>a548910a1c6147796b98fdf73dbeba33</td>\n",
       "      <td>5</td>\n",
       "      <td>NaN</td>\n",
       "      <td>NaN</td>\n",
       "      <td>2018-03-10 00:00:00</td>\n",
       "      <td>2018-03-11 03:05:13</td>\n",
       "    </tr>\n",
       "    <tr>\n",
       "      <th>2</th>\n",
       "      <td>228ce5500dc1d8e020d8d1322874b6f0</td>\n",
       "      <td>f9e4b658b201a9f2ecdecbb34bed034b</td>\n",
       "      <td>5</td>\n",
       "      <td>NaN</td>\n",
       "      <td>NaN</td>\n",
       "      <td>2018-02-17 00:00:00</td>\n",
       "      <td>2018-02-18 14:36:24</td>\n",
       "    </tr>\n",
       "    <tr>\n",
       "      <th>3</th>\n",
       "      <td>e64fb393e7b32834bb789ff8bb30750e</td>\n",
       "      <td>658677c97b385a9be170737859d3511b</td>\n",
       "      <td>5</td>\n",
       "      <td>NaN</td>\n",
       "      <td>Recebi bem antes do prazo estipulado.</td>\n",
       "      <td>2017-04-21 00:00:00</td>\n",
       "      <td>2017-04-21 22:02:06</td>\n",
       "    </tr>\n",
       "    <tr>\n",
       "      <th>4</th>\n",
       "      <td>f7c4243c7fe1938f181bec41a392bdeb</td>\n",
       "      <td>8e6bfb81e283fa7e4f11123a3fb894f1</td>\n",
       "      <td>5</td>\n",
       "      <td>NaN</td>\n",
       "      <td>Parabéns lojas lannister adorei comprar pela I...</td>\n",
       "      <td>2018-03-01 00:00:00</td>\n",
       "      <td>2018-03-02 10:26:53</td>\n",
       "    </tr>\n",
       "  </tbody>\n",
       "</table>\n",
       "</div>"
      ],
      "text/plain": [
       "                          review_id                          order_id  \\\n",
       "0  7bc2406110b926393aa56f80a40eba40  73fc7af87114b39712e6da79b0a377eb   \n",
       "1  80e641a11e56f04c1ad469d5645fdfde  a548910a1c6147796b98fdf73dbeba33   \n",
       "2  228ce5500dc1d8e020d8d1322874b6f0  f9e4b658b201a9f2ecdecbb34bed034b   \n",
       "3  e64fb393e7b32834bb789ff8bb30750e  658677c97b385a9be170737859d3511b   \n",
       "4  f7c4243c7fe1938f181bec41a392bdeb  8e6bfb81e283fa7e4f11123a3fb894f1   \n",
       "\n",
       "   review_score review_comment_title  \\\n",
       "0             4                  NaN   \n",
       "1             5                  NaN   \n",
       "2             5                  NaN   \n",
       "3             5                  NaN   \n",
       "4             5                  NaN   \n",
       "\n",
       "                              review_comment_message review_creation_date  \\\n",
       "0                                                NaN  2018-01-18 00:00:00   \n",
       "1                                                NaN  2018-03-10 00:00:00   \n",
       "2                                                NaN  2018-02-17 00:00:00   \n",
       "3              Recebi bem antes do prazo estipulado.  2017-04-21 00:00:00   \n",
       "4  Parabéns lojas lannister adorei comprar pela I...  2018-03-01 00:00:00   \n",
       "\n",
       "  review_answer_timestamp  \n",
       "0     2018-01-18 21:46:59  \n",
       "1     2018-03-11 03:05:13  \n",
       "2     2018-02-18 14:36:24  \n",
       "3     2017-04-21 22:02:06  \n",
       "4     2018-03-02 10:26:53  "
      ]
     },
     "execution_count": 147,
     "metadata": {},
     "output_type": "execute_result"
    }
   ],
   "source": [
    "order_reviews.head()"
   ]
  },
  {
   "cell_type": "markdown",
   "metadata": {},
   "source": [
    "Нам знадобиться лише заголовок комментаря, його текст та id."
   ]
  },
  {
   "cell_type": "code",
   "execution_count": 148,
   "metadata": {},
   "outputs": [],
   "source": [
    "df = order_reviews[['review_id', 'review_comment_title', 'review_comment_message']].set_index('review_id')\n",
    "\n",
    "df.fillna('', inplace=True)\n",
    "df['comment'] = df['review_comment_title'] + \"\\n\" + df['review_comment_message']\n",
    "df = df[df['comment'] != '\\n'][['comment']]"
   ]
  },
  {
   "cell_type": "markdown",
   "metadata": {},
   "source": [
    "## 1. Проведемо розділення комментарів на 3 категорії за допомогою натренованої багатомовної моделі BERT та тої, яка налаштована спеціально під португалську."
   ]
  },
  {
   "cell_type": "code",
   "execution_count": 149,
   "metadata": {},
   "outputs": [
    {
     "name": "stderr",
     "output_type": "stream",
     "text": [
      "Some weights of BertForSequenceClassification were not initialized from the model checkpoint at neuralmind/bert-base-portuguese-cased and are newly initialized: ['classifier.bias', 'classifier.weight']\n",
      "You should probably TRAIN this model on a down-stream task to be able to use it for predictions and inference.\n"
     ]
    }
   ],
   "source": [
    "from transformers import AutoTokenizer, AutoModelForSequenceClassification\n",
    "import torch\n",
    "\n",
    "\n",
    "# bert\n",
    "tokenizer = AutoTokenizer.from_pretrained(\"nlptown/bert-base-multilingual-uncased-sentiment\")\n",
    "model = AutoModelForSequenceClassification.from_pretrained(\"nlptown/bert-base-multilingual-uncased-sentiment\")\n",
    "def analyze_sentiment(text):\n",
    "    inputs = tokenizer(text, return_tensors=\"pt\", truncation=True, padding=True, max_length=512)\n",
    "    outputs = model(**inputs)\n",
    "\n",
    "    probabilities = torch.nn.functional.softmax(outputs.logits, dim=-1)[0]\n",
    "    sentiment = torch.argmax(probabilities).item()\n",
    "    labels = [\"NEG\", \"NEU\", \"POS\"]\n",
    "\n",
    "    # distibution of emotional score\n",
    "    neg_prob = probabilities[0] + 2/3 * probabilities[1]\n",
    "    neu_prob = 1/3 * probabilities[1] + probabilities[2] + 1/3 * probabilities[3]\n",
    "    pos_prob = 2/3 * probabilities[3] + probabilities[4]\n",
    "\n",
    "    return labels[torch.argmax(torch.tensor([neg_prob, neu_prob, pos_prob])).item()]\n",
    "\n",
    "\n",
    "# pt_bert\n",
    "tokenizer_pt = AutoTokenizer.from_pretrained(\"neuralmind/bert-base-portuguese-cased\")\n",
    "model_pt = AutoModelForSequenceClassification.from_pretrained(\"neuralmind/bert-base-portuguese-cased\")\n",
    "def analyze_sentiment_pt(text):\n",
    "    inputs = tokenizer_pt(text, return_tensors=\"pt\", truncation=True, padding=True, max_length=512)\n",
    "    outputs = model_pt(**inputs)\n",
    "\n",
    "    probabilities = torch.nn.functional.softmax(outputs.logits, dim=-1)[0]\n",
    "    sentiment = torch.argmax(probabilities).item()\n",
    "    labels = [\"NEG\", \"NEU\", \"POS\"]\n",
    "\n",
    "\n",
    "    return labels[int(torch.argmax(outputs.logits))]"
   ]
  },
  {
   "cell_type": "code",
   "execution_count": 150,
   "metadata": {},
   "outputs": [],
   "source": [
    "df_small = df[:10].copy()\n",
    "df_small['sentiment'] = df_small['comment'].apply(analyze_sentiment)\n",
    "df_small['sentiment_pt'] = df_small['comment'].apply(analyze_sentiment_pt)"
   ]
  },
  {
   "cell_type": "markdown",
   "metadata": {},
   "source": [
    "Також додамо переклад португалських речень на англійську, щоб порівняти перфоманси \n",
    "моделей, і обрати, яка більше нам підходить."
   ]
  },
  {
   "cell_type": "code",
   "execution_count": 151,
   "metadata": {},
   "outputs": [],
   "source": [
    "from deep_translator import GoogleTranslator\n",
    "\n",
    "\n",
    "translator = GoogleTranslator()\n",
    "def translate_text(text):\n",
    "    return translator.translate(text=text, source='sp', target='en')"
   ]
  },
  {
   "cell_type": "code",
   "execution_count": 155,
   "metadata": {},
   "outputs": [],
   "source": [
    "df_small['comment_en'] = df_small['comment'].apply(translate_text)"
   ]
  },
  {
   "cell_type": "code",
   "execution_count": 156,
   "metadata": {},
   "outputs": [
    {
     "data": {
      "text/html": [
       "<style type=\"text/css\">\n",
       "</style>\n",
       "<table id=\"T_cbc84\">\n",
       "  <thead>\n",
       "    <tr>\n",
       "      <th id=\"T_cbc84_level0_col0\" class=\"col_heading level0 col0\" >comment</th>\n",
       "      <th id=\"T_cbc84_level0_col1\" class=\"col_heading level0 col1\" >comment_en</th>\n",
       "      <th id=\"T_cbc84_level0_col2\" class=\"col_heading level0 col2\" >sentiment</th>\n",
       "      <th id=\"T_cbc84_level0_col3\" class=\"col_heading level0 col3\" >sentiment_pt</th>\n",
       "    </tr>\n",
       "  </thead>\n",
       "  <tbody>\n",
       "    <tr>\n",
       "      <td id=\"T_cbc84_row0_col0\" class=\"data row0 col0\" >\n",
       "Recebi bem antes do prazo estipulado.</td>\n",
       "      <td id=\"T_cbc84_row0_col1\" class=\"data row0 col1\" >I received it well before the stipulated deadline.</td>\n",
       "      <td id=\"T_cbc84_row0_col2\" class=\"data row0 col2\" >NEU</td>\n",
       "      <td id=\"T_cbc84_row0_col3\" class=\"data row0 col3\" >NEG</td>\n",
       "    </tr>\n",
       "    <tr>\n",
       "      <td id=\"T_cbc84_row1_col0\" class=\"data row1 col0\" >\n",
       "Parabéns lojas lannister adorei comprar pela Internet seguro e prático Parabéns a todos feliz Páscoa</td>\n",
       "      <td id=\"T_cbc84_row1_col1\" class=\"data row1 col1\" >Congratulations Lannister Stores, I loved buying online, it's safe and practical. Congratulations to everyone, happy Easter.</td>\n",
       "      <td id=\"T_cbc84_row1_col2\" class=\"data row1 col2\" >POS</td>\n",
       "      <td id=\"T_cbc84_row1_col3\" class=\"data row1 col3\" >NEG</td>\n",
       "    </tr>\n",
       "    <tr>\n",
       "      <td id=\"T_cbc84_row2_col0\" class=\"data row2 col0\" >recomendo\n",
       "aparelho eficiente. no site a marca do aparelho esta impresso como 3desinfector e ao chegar esta com outro nome...atualizar com a marca correta uma vez que é o mesmo aparelho</td>\n",
       "      <td id=\"T_cbc84_row2_col1\" class=\"data row2 col1\" >I recommend\n",
       "an efficient device. On the website the brand of the device is printed as 3desinfector and when it arrives it has another name... update with the correct brand since it is the same device</td>\n",
       "      <td id=\"T_cbc84_row2_col2\" class=\"data row2 col2\" >POS</td>\n",
       "      <td id=\"T_cbc84_row2_col3\" class=\"data row2 col3\" >NEG</td>\n",
       "    </tr>\n",
       "    <tr>\n",
       "      <td id=\"T_cbc84_row3_col0\" class=\"data row3 col0\" >\n",
       "Mas um pouco ,travando...pelo valor ta Boa.\r\n",
       "</td>\n",
       "      <td id=\"T_cbc84_row3_col1\" class=\"data row3 col1\" >But a little bit, freezing... for the price it's good.</td>\n",
       "      <td id=\"T_cbc84_row3_col2\" class=\"data row3 col2\" >NEU</td>\n",
       "      <td id=\"T_cbc84_row3_col3\" class=\"data row3 col3\" >NEG</td>\n",
       "    </tr>\n",
       "    <tr>\n",
       "      <td id=\"T_cbc84_row4_col0\" class=\"data row4 col0\" >Super recomendo\n",
       "Vendedor confiável, produto ok e entrega antes do prazo.</td>\n",
       "      <td id=\"T_cbc84_row4_col1\" class=\"data row4 col1\" >I highly recommend\n",
       "Reliable seller, ok product and delivery before the deadline.</td>\n",
       "      <td id=\"T_cbc84_row4_col2\" class=\"data row4 col2\" >POS</td>\n",
       "      <td id=\"T_cbc84_row4_col3\" class=\"data row4 col3\" >NEG</td>\n",
       "    </tr>\n",
       "    <tr>\n",
       "      <td id=\"T_cbc84_row5_col0\" class=\"data row5 col0\" >\n",
       "GOSTARIA DE SABER O QUE HOUVE, SEMPRE RECEBI E ESSA COMPRA AGORA ME DECPCIONOU</td>\n",
       "      <td id=\"T_cbc84_row5_col1\" class=\"data row5 col1\" >I WOULD LIKE TO KNOW WHAT HAPPENED, I ALWAYS RECEIVED IT AND THIS PURCHASE NOW DISAPPOINTED ME</td>\n",
       "      <td id=\"T_cbc84_row5_col2\" class=\"data row5 col2\" >NEG</td>\n",
       "      <td id=\"T_cbc84_row5_col3\" class=\"data row5 col3\" >NEG</td>\n",
       "    </tr>\n",
       "    <tr>\n",
       "      <td id=\"T_cbc84_row6_col0\" class=\"data row6 col0\" >Não chegou meu produto \n",
       "Péssimo</td>\n",
       "      <td id=\"T_cbc84_row6_col1\" class=\"data row6 col1\" >My product didn't arrive\n",
       "Terrible</td>\n",
       "      <td id=\"T_cbc84_row6_col2\" class=\"data row6 col2\" >NEG</td>\n",
       "      <td id=\"T_cbc84_row6_col3\" class=\"data row6 col3\" >NEG</td>\n",
       "    </tr>\n",
       "    <tr>\n",
       "      <td id=\"T_cbc84_row7_col0\" class=\"data row7 col0\" >Ótimo\n",
       "Loja nota 10</td>\n",
       "      <td id=\"T_cbc84_row7_col1\" class=\"data row7 col1\" >Great\n",
       "Store rating 10</td>\n",
       "      <td id=\"T_cbc84_row7_col2\" class=\"data row7 col2\" >POS</td>\n",
       "      <td id=\"T_cbc84_row7_col3\" class=\"data row7 col3\" >NEG</td>\n",
       "    </tr>\n",
       "    <tr>\n",
       "      <td id=\"T_cbc84_row8_col0\" class=\"data row8 col0\" >\n",
       "obrigado pela atençao amim dispensada</td>\n",
       "      <td id=\"T_cbc84_row8_col1\" class=\"data row8 col1\" >Thank you for your attention</td>\n",
       "      <td id=\"T_cbc84_row8_col2\" class=\"data row8 col2\" >NEG</td>\n",
       "      <td id=\"T_cbc84_row8_col3\" class=\"data row8 col3\" >NEG</td>\n",
       "    </tr>\n",
       "    <tr>\n",
       "      <td id=\"T_cbc84_row9_col0\" class=\"data row9 col0\" >\n",
       "A compra foi realizada facilmente.\r\n",
       "A entrega foi efetuada muito antes do prazo dado.\r\n",
       "O produto já começou a ser usado e até o presente,\r\n",
       "sem problemas.</td>\n",
       "      <td id=\"T_cbc84_row9_col1\" class=\"data row9 col1\" >The purchase was made easily.\n",
       "\n",
       "The delivery was made well before the deadline.\n",
       "\n",
       "The product has already been used and so far,\n",
       "\n",
       "without any problems.</td>\n",
       "      <td id=\"T_cbc84_row9_col2\" class=\"data row9 col2\" >POS</td>\n",
       "      <td id=\"T_cbc84_row9_col3\" class=\"data row9 col3\" >NEG</td>\n",
       "    </tr>\n",
       "  </tbody>\n",
       "</table>\n"
      ],
      "text/plain": [
       "<pandas.io.formats.style.Styler at 0x7042ad91e090>"
      ]
     },
     "execution_count": 156,
     "metadata": {},
     "output_type": "execute_result"
    }
   ],
   "source": [
    "df_small[['comment', 'comment_en', 'sentiment', 'sentiment_pt']].style.hide(axis='index')"
   ]
  },
  {
   "cell_type": "markdown",
   "metadata": {},
   "source": [
    "Звернемо увагу на коментарі, де оцінки моделей відрізняються і оберемо кращу модель: \n",
    "- 3 коментар важко віднести до якоїсь оцінки,\n",
    "- 2, 5, 6, 7, 8 та 10 коментарі правильно класифікувала перша модель,\n",
    "- 9 коментар правильно класифікувала друга модель.\n",
    "\n",
    "Зважаючи на такі результати та більшу універсальність першої моделі, будемо\n",
    "визначати сентимент саме за допомогою неї."
   ]
  },
  {
   "cell_type": "code",
   "execution_count": 157,
   "metadata": {},
   "outputs": [],
   "source": [
    "df['sentiment'] = df['comment'].apply(analyze_sentiment)"
   ]
  },
  {
   "cell_type": "markdown",
   "metadata": {},
   "source": [
    "Перевіримо модель на 3 неочевидних комментарях:\n",
    "- \"I didn't have to wait long, the product was packaged well, I'm terribly pleased.\",\n",
    "- \"Not a bad product, delivery arrived on time\",\n",
    "- \"I'm not happy, bad purchase :(\"."
   ]
  },
  {
   "cell_type": "code",
   "execution_count": 158,
   "metadata": {},
   "outputs": [
    {
     "name": "stdout",
     "output_type": "stream",
     "text": [
      "1:  POS\n",
      "2:  NEU\n",
      "3:  NEG\n"
     ]
    }
   ],
   "source": [
    "print(\"1: \", analyze_sentiment(\"Não tive de esperar muito tempo, o produto foi muito bem embalado e estou muito satisfeita.\"))\n",
    "print(\"2: \", analyze_sentiment(\"Não é um mau produto, a entrega chegou a tempo\"))\n",
    "print(\"3: \", analyze_sentiment(\"Não estou satisfeito, má compra :(\"))"
   ]
  },
  {
   "cell_type": "markdown",
   "metadata": {},
   "source": [
    "Модель працює і це чудово!"
   ]
  },
  {
   "cell_type": "markdown",
   "metadata": {},
   "source": [
    "# Розробимо підхід до пошуку ціни в коментарях."
   ]
  },
  {
   "cell_type": "markdown",
   "metadata": {},
   "source": [
    "Можна використати вже готові NER (Named Entity Recognition) моделі, бо \n",
    "вони вже натреновані розрізняти окремі сутності в реченнях, тому з виділенням ціни\n",
    "для них не буде проблем, але я використав більш простий, але також працюючий підхід \n",
    "з регулярними виразами."
   ]
  },
  {
   "cell_type": "code",
   "execution_count": 159,
   "metadata": {},
   "outputs": [],
   "source": [
    "import re\n",
    "\n",
    "def find_prices(text):\n",
    "    number_words = {\n",
    "        'um': '1', 'dois': '2', 'três': '3', 'quatro': '4', 'cinco': '5',\n",
    "        'seis': '6', 'sete': '7', 'oito': '8', 'nove': '9', 'dez': '10',\n",
    "        'vinte': '20', 'trinta': '30', 'quarenta': '40', 'cinquenta': '50',\n",
    "        'sessenta': '60', 'setenta': '70', 'oitenta': '80', 'noventa': '90',\n",
    "        'cem': '100', 'duzentos': '200', 'trezentos': '300', 'quatrocentos': '400',\n",
    "        'quinhentos': '500', 'seiscentos': '600', 'setecentos': '700',\n",
    "        'oitocentos': '800', 'novecentos': '900', 'mil': '1000'\n",
    "    }\n",
    "    pattern = r'''\n",
    "        (?:R?\\$\\s*|\\$\\s*|BRL\\s*|USD\\s*)\\d+(?:[.,]\\d+)?  # Prices with currency symbols\n",
    "        |\\d+(?:[.,]\\d+)?\\s*(?:BRL|USD|R\\$|\\$)           # Prices with currency designations after the number\n",
    "        |(\\d+(?:[.,]\\d+)?)\\s*(?:reais?|dólares?)        # Prices with word-based currency designations\n",
    "        |({})\\s*(?:reais?|dólares?)                     # Word numbers with currency designations\n",
    "    '''.format('|'.join(number_words.keys()))\n",
    "\n",
    "    matches = re.finditer(pattern, text, re.VERBOSE | re.IGNORECASE)\n",
    "    prices = []\n",
    "\n",
    "    for match in matches:\n",
    "        if match.group(1):  # If a number with a word-based currency designation is found\n",
    "            prices.append(match.group(0))\n",
    "        elif match.group(2):  # If a word number is found\n",
    "            word = match.group(2).lower()\n",
    "            number = number_words.get(word, word)\n",
    "            currency = 'reais' if 'real' in match.group(0).lower() else 'dólares'\n",
    "            prices.append(f\"{number} {currency}\")\n",
    "        else:\n",
    "            prices.append(match.group(0))\n",
    "\n",
    "    return prices\n"
   ]
  },
  {
   "cell_type": "markdown",
   "metadata": {},
   "source": [
    "Спробуємо розрізнити переклад такого речення: \"The product costs BRL 50.00 or $10.00 USD. We also have options for 75.50 BRL and 25 reais. A premium version costs two hundred reais.\"."
   ]
  },
  {
   "cell_type": "code",
   "execution_count": 160,
   "metadata": {},
   "outputs": [
    {
     "name": "stdout",
     "output_type": "stream",
     "text": [
      "Price: R$ 50,00\n",
      "Price: $ 10,00\n",
      "Price: 75,50 BRL\n",
      "Price: 25 reais\n",
      "Price: 200 dólares\n"
     ]
    }
   ],
   "source": [
    "# Example usage\n",
    "text = \"O produto custa R$ 50,00 ou $ 10,00 USD. Também temos opções por 75,50 BRL e 25 reais. Uma versão premium custa duzentos reais.\"\n",
    "prices = find_prices(text)\n",
    "for price in prices:\n",
    "    print(f\"Price: {price}\")"
   ]
  },
  {
   "cell_type": "markdown",
   "metadata": {},
   "source": [
    "Цей підхід надійно працює і його легко покращувати."
   ]
  },
  {
   "cell_type": "markdown",
   "metadata": {},
   "source": [
    "# Виконаємо аналіз.\n",
    "Які саме показники цікавлять зазначено не було, тому я виведу інформацію, яка\n",
    "є цікавою для мене: найкращі товари та найгірші продавці."
   ]
  },
  {
   "cell_type": "markdown",
   "metadata": {},
   "source": [
    "# 1.\n",
    "Для аналізу товарів я буду використовувати середнє значення оцінки покупцями та кількість\n",
    "продажів (тобто найпопулярніші товари з високими оцінками)."
   ]
  },
  {
   "cell_type": "code",
   "execution_count": 161,
   "metadata": {},
   "outputs": [],
   "source": [
    "# product_id & review score\n",
    "\n",
    "data = pd.merge(orders[orders['order_approved_at'].notna()], order_items, on='order_id', how='left')\n",
    "data = pd.merge(data, products, on='product_id')\n",
    "data = pd.merge(data, order_reviews, on='order_id')\n",
    "data = pd.merge(data, product_category_name_translation, on='product_category_name')\n",
    "\n",
    "df_product = data[['product_id', 'review_score']]\n",
    "\n",
    "df_product = df_product.groupby('product_id').agg(\n",
    "    avg_score=('review_score', 'mean'),\n",
    "    count=('review_score', 'count')\n",
    ").reset_index().sort_values(['avg_score', 'count'], ascending=False)\n",
    "\n",
    "df_product = pd.merge(df_product, products, on='product_id')\n",
    "df_product = pd.merge(df_product, product_category_name_translation, on='product_category_name')\n"
   ]
  },
  {
   "cell_type": "markdown",
   "metadata": {},
   "source": [
    "Виведемо найпопулярніші товари з високими оцінками."
   ]
  },
  {
   "cell_type": "code",
   "execution_count": 162,
   "metadata": {},
   "outputs": [
    {
     "data": {
      "text/html": [
       "<style type=\"text/css\">\n",
       "</style>\n",
       "<table id=\"T_f8988\">\n",
       "  <thead>\n",
       "    <tr>\n",
       "      <th id=\"T_f8988_level0_col0\" class=\"col_heading level0 col0\" >product_id</th>\n",
       "      <th id=\"T_f8988_level0_col1\" class=\"col_heading level0 col1\" >product_category_name_english</th>\n",
       "      <th id=\"T_f8988_level0_col2\" class=\"col_heading level0 col2\" >avg_score</th>\n",
       "      <th id=\"T_f8988_level0_col3\" class=\"col_heading level0 col3\" >count</th>\n",
       "    </tr>\n",
       "  </thead>\n",
       "  <tbody>\n",
       "    <tr>\n",
       "      <td id=\"T_f8988_row0_col0\" class=\"data row0 col0\" >37eb69aca8718e843d897aa7b82f462d</td>\n",
       "      <td id=\"T_f8988_row0_col1\" class=\"data row0 col1\" >garden_tools</td>\n",
       "      <td id=\"T_f8988_row0_col2\" class=\"data row0 col2\" >5.000000</td>\n",
       "      <td id=\"T_f8988_row0_col3\" class=\"data row0 col3\" >15</td>\n",
       "    </tr>\n",
       "    <tr>\n",
       "      <td id=\"T_f8988_row1_col0\" class=\"data row1 col0\" >03e1c946c0ddfc58724ff262aef08dff</td>\n",
       "      <td id=\"T_f8988_row1_col1\" class=\"data row1 col1\" >housewares</td>\n",
       "      <td id=\"T_f8988_row1_col2\" class=\"data row1 col2\" >5.000000</td>\n",
       "      <td id=\"T_f8988_row1_col3\" class=\"data row1 col3\" >14</td>\n",
       "    </tr>\n",
       "    <tr>\n",
       "      <td id=\"T_f8988_row2_col0\" class=\"data row2 col0\" >8173ca41cdb176462f9ae79821a48404</td>\n",
       "      <td id=\"T_f8988_row2_col1\" class=\"data row2 col1\" >sports_leisure</td>\n",
       "      <td id=\"T_f8988_row2_col2\" class=\"data row2 col2\" >5.000000</td>\n",
       "      <td id=\"T_f8988_row2_col3\" class=\"data row2 col3\" >14</td>\n",
       "    </tr>\n",
       "    <tr>\n",
       "      <td id=\"T_f8988_row3_col0\" class=\"data row3 col0\" >870bcc6c58e03ca658cfdd13db4bbe28</td>\n",
       "      <td id=\"T_f8988_row3_col1\" class=\"data row3 col1\" >computers_accessories</td>\n",
       "      <td id=\"T_f8988_row3_col2\" class=\"data row3 col2\" >5.000000</td>\n",
       "      <td id=\"T_f8988_row3_col3\" class=\"data row3 col3\" >14</td>\n",
       "    </tr>\n",
       "    <tr>\n",
       "      <td id=\"T_f8988_row4_col0\" class=\"data row4 col0\" >8b6ed41158b194711f83b8da92757544</td>\n",
       "      <td id=\"T_f8988_row4_col1\" class=\"data row4 col1\" >sports_leisure</td>\n",
       "      <td id=\"T_f8988_row4_col2\" class=\"data row4 col2\" >5.000000</td>\n",
       "      <td id=\"T_f8988_row4_col3\" class=\"data row4 col3\" >14</td>\n",
       "    </tr>\n",
       "    <tr>\n",
       "      <td id=\"T_f8988_row5_col0\" class=\"data row5 col0\" >2722b7e5f68e776d18fe901638034e54</td>\n",
       "      <td id=\"T_f8988_row5_col1\" class=\"data row5 col1\" >health_beauty</td>\n",
       "      <td id=\"T_f8988_row5_col2\" class=\"data row5 col2\" >5.000000</td>\n",
       "      <td id=\"T_f8988_row5_col3\" class=\"data row5 col3\" >13</td>\n",
       "    </tr>\n",
       "    <tr>\n",
       "      <td id=\"T_f8988_row6_col0\" class=\"data row6 col0\" >143c616ec3fe0cb065c3805cf9bd812e</td>\n",
       "      <td id=\"T_f8988_row6_col1\" class=\"data row6 col1\" >garden_tools</td>\n",
       "      <td id=\"T_f8988_row6_col2\" class=\"data row6 col2\" >5.000000</td>\n",
       "      <td id=\"T_f8988_row6_col3\" class=\"data row6 col3\" >12</td>\n",
       "    </tr>\n",
       "    <tr>\n",
       "      <td id=\"T_f8988_row7_col0\" class=\"data row7 col0\" >16ce899c7af0c99f46948734a0d00f0f</td>\n",
       "      <td id=\"T_f8988_row7_col1\" class=\"data row7 col1\" >stationery</td>\n",
       "      <td id=\"T_f8988_row7_col2\" class=\"data row7 col2\" >5.000000</td>\n",
       "      <td id=\"T_f8988_row7_col3\" class=\"data row7 col3\" >12</td>\n",
       "    </tr>\n",
       "    <tr>\n",
       "      <td id=\"T_f8988_row8_col0\" class=\"data row8 col0\" >2ced45a3059cbb128a8b8b6508809746</td>\n",
       "      <td id=\"T_f8988_row8_col1\" class=\"data row8 col1\" >computers_accessories</td>\n",
       "      <td id=\"T_f8988_row8_col2\" class=\"data row8 col2\" >5.000000</td>\n",
       "      <td id=\"T_f8988_row8_col3\" class=\"data row8 col3\" >11</td>\n",
       "    </tr>\n",
       "    <tr>\n",
       "      <td id=\"T_f8988_row9_col0\" class=\"data row9 col0\" >4c8b28305f570899b6ded964ddd234a9</td>\n",
       "      <td id=\"T_f8988_row9_col1\" class=\"data row9 col1\" >furniture_decor</td>\n",
       "      <td id=\"T_f8988_row9_col2\" class=\"data row9 col2\" >5.000000</td>\n",
       "      <td id=\"T_f8988_row9_col3\" class=\"data row9 col3\" >11</td>\n",
       "    </tr>\n",
       "  </tbody>\n",
       "</table>\n"
      ],
      "text/plain": [
       "<pandas.io.formats.style.Styler at 0x7042a767dc40>"
      ]
     },
     "execution_count": 162,
     "metadata": {},
     "output_type": "execute_result"
    }
   ],
   "source": [
    "df_product[['product_id', 'product_category_name_english', 'avg_score', 'count']].head(10).style.hide(axis='index')"
   ]
  },
  {
   "cell_type": "markdown",
   "metadata": {},
   "source": [
    "## 2.\n",
    "Тепер знайдемо найгіршого продавця, але вже будемо орієнтуватися на середню семантичну \n",
    "оцінку коментаря, бо вона відорбражає не тільки якість товару, але й комунікацію з людьми."
   ]
  },
  {
   "cell_type": "code",
   "execution_count": 163,
   "metadata": {},
   "outputs": [],
   "source": [
    "df = pd.merge(df, order_reviews, on='review_id')\n",
    "df = pd.merge(df, orders, on='order_id')\n",
    "df = pd.merge(df, order_items, on='order_id')\n",
    "\n",
    "\n",
    "emo_to_score = category_mapping = {\n",
    "    'NEG': 1,\n",
    "    'NEU': 2,\n",
    "    'POS': 3\n",
    "}\n",
    "df['sentiment_score'] = df['sentiment'].map(emo_to_score)"
   ]
  },
  {
   "cell_type": "code",
   "execution_count": 164,
   "metadata": {},
   "outputs": [],
   "source": [
    "df_sorted = df.groupby('seller_id').agg(\n",
    "    avg_sentiment=('sentiment_score', 'mean'),\n",
    "    count=('sentiment_score', 'count')\n",
    ").reset_index().sort_values(['count', 'avg_sentiment'], ascending=[False, True])"
   ]
  },
  {
   "cell_type": "code",
   "execution_count": 165,
   "metadata": {},
   "outputs": [
    {
     "data": {
      "text/html": [
       "<style type=\"text/css\">\n",
       "</style>\n",
       "<table id=\"T_02b6e\">\n",
       "  <thead>\n",
       "    <tr>\n",
       "      <th id=\"T_02b6e_level0_col0\" class=\"col_heading level0 col0\" >seller_id</th>\n",
       "      <th id=\"T_02b6e_level0_col1\" class=\"col_heading level0 col1\" >avg_sentiment</th>\n",
       "      <th id=\"T_02b6e_level0_col2\" class=\"col_heading level0 col2\" >count</th>\n",
       "    </tr>\n",
       "  </thead>\n",
       "  <tbody>\n",
       "    <tr>\n",
       "      <td id=\"T_02b6e_row0_col0\" class=\"data row0 col0\" >4a3ca9315b744ce9f8e9374361493884</td>\n",
       "      <td id=\"T_02b6e_row0_col1\" class=\"data row0 col1\" >2.062162</td>\n",
       "      <td id=\"T_02b6e_row0_col2\" class=\"data row0 col2\" >1110</td>\n",
       "    </tr>\n",
       "    <tr>\n",
       "      <td id=\"T_02b6e_row1_col0\" class=\"data row1 col0\" >6560211a19b47992c3666cc44a7e94c0</td>\n",
       "      <td id=\"T_02b6e_row1_col1\" class=\"data row1 col1\" >2.091346</td>\n",
       "      <td id=\"T_02b6e_row1_col2\" class=\"data row1 col2\" >1040</td>\n",
       "    </tr>\n",
       "    <tr>\n",
       "      <td id=\"T_02b6e_row2_col0\" class=\"data row2 col0\" >1f50f920176fa81dab994f9023523100</td>\n",
       "      <td id=\"T_02b6e_row2_col1\" class=\"data row2 col1\" >2.116601</td>\n",
       "      <td id=\"T_02b6e_row2_col2\" class=\"data row2 col2\" >1012</td>\n",
       "    </tr>\n",
       "    <tr>\n",
       "      <td id=\"T_02b6e_row3_col0\" class=\"data row3 col0\" >cc419e0650a3c5ba77189a1882b7556a</td>\n",
       "      <td id=\"T_02b6e_row3_col1\" class=\"data row3 col1\" >2.174603</td>\n",
       "      <td id=\"T_02b6e_row3_col2\" class=\"data row3 col2\" >819</td>\n",
       "    </tr>\n",
       "    <tr>\n",
       "      <td id=\"T_02b6e_row4_col0\" class=\"data row4 col0\" >7c67e1448b00f6e969d365cea6b010ab</td>\n",
       "      <td id=\"T_02b6e_row4_col1\" class=\"data row4 col1\" >1.742240</td>\n",
       "      <td id=\"T_02b6e_row4_col2\" class=\"data row4 col2\" >741</td>\n",
       "    </tr>\n",
       "    <tr>\n",
       "      <td id=\"T_02b6e_row5_col0\" class=\"data row5 col0\" >1025f0e2d44d7041d6cf58b6550e0bfa</td>\n",
       "      <td id=\"T_02b6e_row5_col1\" class=\"data row5 col1\" >1.906425</td>\n",
       "      <td id=\"T_02b6e_row5_col2\" class=\"data row5 col2\" >716</td>\n",
       "    </tr>\n",
       "    <tr>\n",
       "      <td id=\"T_02b6e_row6_col0\" class=\"data row6 col0\" >da8622b14eb17ae2831f4ac5b9dab84a</td>\n",
       "      <td id=\"T_02b6e_row6_col1\" class=\"data row6 col1\" >2.132460</td>\n",
       "      <td id=\"T_02b6e_row6_col2\" class=\"data row6 col2\" >687</td>\n",
       "    </tr>\n",
       "    <tr>\n",
       "      <td id=\"T_02b6e_row7_col0\" class=\"data row7 col0\" >955fee9216a65b617aa5c0531780ce60</td>\n",
       "      <td id=\"T_02b6e_row7_col1\" class=\"data row7 col1\" >2.116923</td>\n",
       "      <td id=\"T_02b6e_row7_col2\" class=\"data row7 col2\" >650</td>\n",
       "    </tr>\n",
       "    <tr>\n",
       "      <td id=\"T_02b6e_row8_col0\" class=\"data row8 col0\" >ea8482cd71df3c1969d7b9473ff13abc</td>\n",
       "      <td id=\"T_02b6e_row8_col1\" class=\"data row8 col1\" >2.074468</td>\n",
       "      <td id=\"T_02b6e_row8_col2\" class=\"data row8 col2\" >564</td>\n",
       "    </tr>\n",
       "    <tr>\n",
       "      <td id=\"T_02b6e_row9_col0\" class=\"data row9 col0\" >7a67c85e85bb2ce8582c35f2203ad736</td>\n",
       "      <td id=\"T_02b6e_row9_col1\" class=\"data row9 col1\" >2.379648</td>\n",
       "      <td id=\"T_02b6e_row9_col2\" class=\"data row9 col2\" >511</td>\n",
       "    </tr>\n",
       "  </tbody>\n",
       "</table>\n"
      ],
      "text/plain": [
       "<pandas.io.formats.style.Styler at 0x7042a762c530>"
      ]
     },
     "execution_count": 165,
     "metadata": {},
     "output_type": "execute_result"
    }
   ],
   "source": [
    "df_sorted[['seller_id', 'avg_sentiment', 'count']].head(10).style.hide(axis='index')"
   ]
  },
  {
   "cell_type": "markdown",
   "metadata": {},
   "source": [
    "Найгірший продавець серед популярних знайдений!"
   ]
  }
 ],
 "metadata": {
  "kernelspec": {
   "display_name": "base",
   "language": "python",
   "name": "python3"
  },
  "language_info": {
   "codemirror_mode": {
    "name": "ipython",
    "version": 3
   },
   "file_extension": ".py",
   "mimetype": "text/x-python",
   "name": "python",
   "nbconvert_exporter": "python",
   "pygments_lexer": "ipython3",
   "version": "3.12.2"
  }
 },
 "nbformat": 4,
 "nbformat_minor": 2
}
